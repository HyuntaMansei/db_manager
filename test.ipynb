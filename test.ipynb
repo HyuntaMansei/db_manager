{
 "cells": [
  {
   "cell_type": "code",
   "execution_count": 1,
   "metadata": {},
   "outputs": [],
   "source": [
    "import pandas as pd\n",
    "import mysql.connector"
   ]
  },
  {
   "cell_type": "code",
   "execution_count": 21,
   "metadata": {},
   "outputs": [],
   "source": [
    "# Common function defenition\n",
    "def connect_db():\n",
    "    db_connection = mysql.connector.connect(\n",
    "    host='146.56.43.43',\n",
    "    user='ffbemaster',\n",
    "    password='aksaksgo1!',\n",
    "    database='ffbe')\n",
    "    return db_connection\n",
    "def fetch_data_from_db(sql):\n",
    "    conn = connect_db()\n",
    "    cursor = conn.cursor()\n",
    "    cursor.execute(sql)\n",
    "    res = cursor.fetchall()\n",
    "    cursor.close()\n",
    "    conn.close()\n",
    "    return res\n",
    "def fetch_data_from_db_with_col_names(sql):\n",
    "    conn = connect_db()\n",
    "    cursor = conn.cursor()\n",
    "    cursor.execute(sql)\n",
    "    res = cursor.fetchall()\n",
    "    col_names = cursor.column_names\n",
    "    cursor.close()\n",
    "    conn.close()\n",
    "    return res, col_names\n",
    "def write_to_server(sql, values):\n",
    "    conn = connect_db()\n",
    "    cursor = conn.cursor()\n",
    "    if type(values) != list:\n",
    "        cursor.execute(sql, values)\n",
    "    else:\n",
    "        for i in range(len(values)):\n",
    "            cursor.execute(sql, values[i])\n",
    "    res = cursor.fetchall()\n",
    "    cursor.close()\n",
    "    conn.commit()\n",
    "    conn.close()\n",
    "    return res"
   ]
  },
  {
   "cell_type": "code",
   "execution_count": 12,
   "metadata": {},
   "outputs": [
    {
     "data": {
      "text/plain": [
       "Index(['seq', 'char_name', 'char_jp_name', 'char_trsl_name', 'char_g8_link',\n",
       "       'char_img_src', 'char_eval', 'char_rarity', 'char_element',\n",
       "       'char_element_img_src', 'char_main_job', 'char_main_job_class',\n",
       "       'char_main_job_class_alias', 'char_sub_job1', 'char_sub_job2'],\n",
       "      dtype='object')"
      ]
     },
     "execution_count": 12,
     "metadata": {},
     "output_type": "execute_result"
    }
   ],
   "source": [
    "sql_query = \"\"\"SELECT * FROM char_list\"\"\"\n",
    "data, col_names = fetch_data_from_db_with_col_names(sql_query)\n",
    "chars = pd.DataFrame(data, columns=col_names)\n",
    "chars.columns"
   ]
  },
  {
   "cell_type": "code",
   "execution_count": 13,
   "metadata": {},
   "outputs": [],
   "source": [
    "def get_char_name(character):\n",
    "    if character['char_name']:\n",
    "        return character['char_name']\n",
    "    if character['char_trsl_name']:\n",
    "        return character['char_trsl_name']\n",
    "    if character['char_jp_name']:\n",
    "        return character['char_jp_name']\n",
    "    else:\n",
    "        return \"NoName\""
   ]
  },
  {
   "cell_type": "code",
   "execution_count": 6,
   "metadata": {},
   "outputs": [
    {
     "name": "stdout",
     "output_type": "stream",
     "text": [
      "박쥐\n"
     ]
    }
   ],
   "source": [
    "print(get_char_name(chars.iloc[2]))"
   ]
  },
  {
   "cell_type": "code",
   "execution_count": null,
   "metadata": {},
   "outputs": [],
   "source": [
    "selected_chars = pd.DataFrame()\n",
    "for i, c in chars.iterrows():\n",
    "    print(get_char_name(c))\n",
    "    selected_chars = pd.concat([selected_chars, c], ignore_index=True)\n",
    "    if i == 4:\n",
    "        chars.drop(i)\n",
    "    if i > 10:\n",
    "        break\n",
    "selected_chars\n",
    "print(chars)"
   ]
  },
  {
   "cell_type": "code",
   "execution_count": 21,
   "metadata": {},
   "outputs": [],
   "source": [
    "def show_chars_in_brief(chars:pd.DataFrame, selected_chars, width=100):\n",
    "    # chars = Dataframe\n",
    "    if type(selected_chars) != list:\n",
    "        selected_chars = [selected_chars]\n",
    "    col_num = 4\n",
    "    cnt = 0\n",
    "    element_list = ['화', '빙', '풍', '토', '뇌', '수', '명', '암']\n",
    "    chars_on_element = {}\n",
    "    for e in element_list:\n",
    "        #속성별로 나누어 담는다.\n",
    "        chars_on_element[e] = chars[(chars['char_element']==e) \n",
    "                                    & (chars['char_main_job_class_alias'].isin(selected_chars))]\n",
    "    for e in element_list:\n",
    "        if len(chars_on_element[e]):\n",
    "            print(f\"for {e}\", \"-\"*50)\n",
    "            print(chars_on_element[e]['char_trsl_name'])"
   ]
  },
  {
   "cell_type": "code",
   "execution_count": 24,
   "metadata": {},
   "outputs": [
    {
     "name": "stdout",
     "output_type": "stream",
     "text": [
      "for 화 --------------------------------------------------\n",
      "26       케프카\n",
      "72    로이 머스탱\n",
      "Name: char_trsl_name, dtype: object\n",
      "for 뇌 --------------------------------------------------\n",
      "40    헬레나(수영복)\n",
      "Name: char_trsl_name, dtype: object\n"
     ]
    }
   ],
   "source": [
    "show_chars_in_brief(chars, \"글로브\")"
   ]
  },
  {
   "cell_type": "code",
   "execution_count": 3,
   "metadata": {},
   "outputs": [
    {
     "name": "stdout",
     "output_type": "stream",
     "text": [
      "<Section: ffbe>\n"
     ]
    }
   ],
   "source": [
    "import configparser\n",
    "config = configparser.ConfigParser()\n",
    "config.read(\"./ignore/config.ini\")\n",
    "ffbe_config = config['ffbe']\n",
    "print(ffbe_config)\n"
   ]
  },
  {
   "cell_type": "code",
   "execution_count": 4,
   "metadata": {},
   "outputs": [
    {
     "name": "stdout",
     "output_type": "stream",
     "text": [
      "<Section: ffbe>\n"
     ]
    }
   ],
   "source": [
    "from selenium import webdriver\n",
    "from selenium.webdriver.common.by import By\n",
    "from selenium.webdriver.chrome.options import Options\n",
    "from bs4 import BeautifulSoup\n",
    "import mysql.connector\n",
    "import configparser\n",
    "import pandas as pd\n",
    "\n",
    "config = configparser.ConfigParser()\n",
    "config.read(\"./ignore/config.ini\")\n",
    "ffbe_config = config['ffbe']\n",
    "print(ffbe_config)\n",
    "\n",
    "def connect_db():\n",
    "    db_connection = mysql.connector.connect(\n",
    "    host=ffbe_config['host'],\n",
    "    user=ffbe_config['user'],\n",
    "    password=ffbe_config['password'],\n",
    "    database=ffbe_config['database'])\n",
    "    return db_connection"
   ]
  },
  {
   "cell_type": "code",
   "execution_count": 14,
   "metadata": {},
   "outputs": [
    {
     "name": "stdout",
     "output_type": "stream",
     "text": [
      "DEFAULT\n",
      "ffbe\n",
      "POKE_ACCS\n",
      "['DEFAULT', 'ffbe', 'POKE_ACCS']\n"
     ]
    }
   ],
   "source": [
    "for i in config.items():\n",
    "    print(i[0])\n",
    "sections = [i[0] for i in config.items()]\n",
    "print(sections)"
   ]
  },
  {
   "cell_type": "code",
   "execution_count": 8,
   "metadata": {},
   "outputs": [
    {
     "name": "stdout",
     "output_type": "stream",
     "text": [
      "[('char_list',), ('char_list_for_update',), ('class_list',), ('job_list',), ('job_list_for_update',), ('operation_list',), ('test_tb',), ('user_log',), ('vc_for_job_for_update_list',), ('vc_for_job_list',), ('version_info',)]\n"
     ]
    }
   ],
   "source": [
    "conn = connect_db()\n",
    "cursor = conn.cursor()\n",
    "cursor.execute(\"show tables\")\n",
    "print(cursor.fetchall())"
   ]
  },
  {
   "cell_type": "code",
   "execution_count": 17,
   "metadata": {},
   "outputs": [
    {
     "data": {
      "text/plain": [
       "{'host': '146.56.43.43',\n",
       " 'user': 'ffbemaster',\n",
       " 'password': 'aksaksgo1!',\n",
       " 'database': 'ffbe'}"
      ]
     },
     "execution_count": 17,
     "metadata": {},
     "output_type": "execute_result"
    }
   ],
   "source": [
    "selected_db_config = config['ffbe']\n",
    "\n",
    "param_list = [\"host\", \"user\", \"password\", \"database\"]\n",
    "params = {p:selected_db_config[p] for p in param_list}\n",
    "# db_connection = mysql.connector.connect(**params)\n",
    "params"
   ]
  },
  {
   "cell_type": "code",
   "execution_count": 25,
   "metadata": {},
   "outputs": [],
   "source": [
    "def test(a, b, c, host):\n",
    "    print(a, b, c, host)"
   ]
  },
  {
   "cell_type": "code",
   "execution_count": 5,
   "metadata": {},
   "outputs": [
    {
     "name": "stdout",
     "output_type": "stream",
     "text": [
      "False\n"
     ]
    }
   ],
   "source": [
    "import os\n",
    "file_path = './data/'\n",
    "print(os.path.isfile(file_path))"
   ]
  },
  {
   "cell_type": "code",
   "execution_count": 9,
   "metadata": {},
   "outputs": [],
   "source": [
    "import re\n",
    "def extract_and_add_one(input_string):\n",
    "    def add_one(match):\n",
    "        number = int(match.group(1))\n",
    "        return str(number + 1)\n",
    "    pattern = r'\\((\\d+)\\)'\n",
    "    result = re.sub(pattern, add_one, input_string)\n",
    "    return result"
   ]
  },
  {
   "cell_type": "code",
   "execution_count": 10,
   "metadata": {},
   "outputs": [
    {
     "name": "stdout",
     "output_type": "stream",
     "text": [
      "fdsafjkd3233, 324, 12\n"
     ]
    }
   ],
   "source": [
    "test = \"fdsafjkd(3232), (323), (11)\"\n",
    "print(extract_and_add_one(test))"
   ]
  },
  {
   "cell_type": "code",
   "execution_count": 4,
   "metadata": {},
   "outputs": [
    {
     "name": "stdout",
     "output_type": "stream",
     "text": [
      "['seq', 'char_name', 'char_jp_name', 'char_trsl_name', 'char_g8_link', 'char_img_src', 'char_eval', 'char_rarity', 'char_element', 'char_element_img_src', 'char_main_job', 'char_main_job_class', 'char_main_job_class_alias', 'char_sub_job1', 'char_sub_job2']\n"
     ]
    }
   ],
   "source": [
    "table_name = 'char_list'\n",
    "sql = f\"SHOW COLUMNS FROM {table_name}\"\n",
    "data = fetch_data_from_db(sql)\n",
    "col_names = [c[0] for c in data]\n",
    "print(col_names)"
   ]
  },
  {
   "cell_type": "code",
   "execution_count": 7,
   "metadata": {},
   "outputs": [
    {
     "data": {
      "text/plain": [
       "3"
      ]
     },
     "execution_count": 7,
     "metadata": {},
     "output_type": "execute_result"
    }
   ],
   "source": [
    "a = 3 if True else 2\n",
    "a"
   ]
  },
  {
   "cell_type": "code",
   "execution_count": 8,
   "metadata": {},
   "outputs": [
    {
     "name": "stdout",
     "output_type": "stream",
     "text": [
      "    seq  vc_name    vc_trsl_name     vc_jp_name  \\\n",
      "0     1      NaN  타케의 받음은 훨씬 멀다.            aaa   \n",
      "1     2      NaN        빛나는 여름 굴       빛나는 여름 굴   \n",
      "2     3      NaN    마해왕자 사하긴 프린스   마해왕자 사하긴 프린스   \n",
      "3     4      NaN         피가 묻은 길        피가 묻은 길   \n",
      "4     5      NaN      엘시레일 단독 임무     엘시레일 단독 임무   \n",
      "5     6      NaN      살아가는 양과 함께     살아가는 양과 함께   \n",
      "6     7      NaN    투격 맹우 미노타우로스   투격 맹우 미노타우로스   \n",
      "7     8      NaN             실드라            실드라   \n",
      "8     9      NaN       비룡에 대한 생각      비룡에 대한 생각   \n",
      "9    10      NaN      세상을 바꾸기 위해     세상을 바꾸기 위해   \n",
      "10   11      NaN   마군 장수 그레이트 데몬  마군 장수 그레이트 데몬   \n",
      "11   12      NaN       글로무스 집 여행      글로무스 집 여행   \n",
      "12   13      NaN          삼투신의 힘         삼투신의 힘   \n",
      "13   14      NaN   나가수 뇌아 마스터 쿠알  나가수 뇌아 마스터 쿠알   \n",
      "14   15      NaN          이계의 공투         이계의 공투   \n",
      "15   16      NaN    형제와 유대를 맺는 자   형제와 유대를 맺는 자   \n",
      "16   17      NaN   형제의 유대를 지키는 자  형제의 유대를 지키는 자   \n",
      "17   18      NaN    형제의 유대를 믿는 자   형제의 유대를 믿는 자   \n",
      "18   19      NaN      거룩한 밤에 소원을     거룩한 밤에 소원을   \n",
      "19   20      NaN       와류 손톱을 갈아      와류 손톱을 갈아   \n",
      "20   21      NaN      새로운 운명의 기어     새로운 운명의 기어   \n",
      "21   22      NaN              영웅             영웅   \n",
      "22   23      NaN             추적자            추적자   \n",
      "23   24      NaN      시로가네 색의 추억     시로가네 색의 추억   \n",
      "24   25      NaN       나이트메어 할로윈      나이트메어 할로윈   \n",
      "25   26      NaN         계승되는 의지        계승되는 의지   \n",
      "26   27      NaN       동방에서 호른까지      동방에서 호른까지   \n",
      "27   28      NaN      신원을 만지는 악마     신원을 만지는 악마   \n",
      "28   29      NaN         기수일의 만남        기수일의 만남   \n",
      "29   30      NaN          나타난 강적         나타난 강적   \n",
      "30   31      NaN          불길을 넘어         불길을 넘어   \n",
      "31   32      NaN       폭식이 나타납니다      폭식이 나타납니다   \n",
      "32   33      NaN          즐거움 시간         즐거움 시간   \n",
      "33   34      NaN           요염 마녀          요염 마녀   \n",
      "34   35      NaN       명탐정 리렐 리라      명탐정 리렐 리라   \n",
      "35   36      NaN         오랜만의 휴가        오랜만의 휴가   \n",
      "36   37      NaN        폭탄 총알 폭탄       폭탄 총알 폭탄   \n",
      "37   38      NaN         剛力鬼人 오거        剛力鬼人 오거   \n",
      "38   39      NaN        거대한 괴조 주       거대한 괴조 주   \n",
      "39   40      NaN     마안광선 플로 타이볼    마안광선 플로 타이볼   \n",
      "40   41      NaN       순간 천본 선인장      순간 천본 선인장   \n",
      "41   42      NaN        다인베르크 교회       다인베르크 교회   \n",
      "42   43      NaN           웨즈엣 성          웨즈엣 성   \n",
      "43   44      NaN           페네스 성          페네스 성   \n",
      "44   45      NaN            호른 성           호른 성   \n",
      "45   46      NaN          리오니스 성         리오니스 성   \n",
      "46   47      NaN      크리스탈 교회 깃발     크리스탈 교회 깃발   \n",
      "47   48      NaN          웨즈엣 국기         웨즈엣 국기   \n",
      "48   49      NaN         페네스 플래그        페네스 플래그   \n",
      "49   50      NaN           호른 깃발          호른 깃발   \n",
      "50   51      NaN         리오니스 국기        리오니스 국기   \n",
      "\n",
      "                             vc_g8_link  \\\n",
      "0   https://game8.jp/geneisensou/541650   \n",
      "1   https://game8.jp/geneisensou/541649   \n",
      "2   https://game8.jp/geneisensou/539785   \n",
      "3   https://game8.jp/geneisensou/539775   \n",
      "4   https://game8.jp/geneisensou/537199   \n",
      "5   https://game8.jp/geneisensou/534098   \n",
      "6   https://game8.jp/geneisensou/526184   \n",
      "7   https://game8.jp/geneisensou/525189   \n",
      "8   https://game8.jp/geneisensou/524036   \n",
      "9   https://game8.jp/geneisensou/522047   \n",
      "10  https://game8.jp/geneisensou/521382   \n",
      "11  https://game8.jp/geneisensou/519074   \n",
      "12  https://game8.jp/geneisensou/513255   \n",
      "13  https://game8.jp/geneisensou/511441   \n",
      "14  https://game8.jp/geneisensou/509108   \n",
      "15  https://game8.jp/geneisensou/506880   \n",
      "16  https://game8.jp/geneisensou/506462   \n",
      "17  https://game8.jp/geneisensou/505449   \n",
      "18  https://game8.jp/geneisensou/504396   \n",
      "19  https://game8.jp/geneisensou/501228   \n",
      "20  https://game8.jp/geneisensou/497162   \n",
      "21  https://game8.jp/geneisensou/493942   \n",
      "22  https://game8.jp/geneisensou/492428   \n",
      "23  https://game8.jp/geneisensou/489183   \n",
      "24  https://game8.jp/geneisensou/487246   \n",
      "25  https://game8.jp/geneisensou/485773   \n",
      "26  https://game8.jp/geneisensou/482186   \n",
      "27  https://game8.jp/geneisensou/480705   \n",
      "28  https://game8.jp/geneisensou/479656   \n",
      "29  https://game8.jp/geneisensou/477797   \n",
      "30  https://game8.jp/geneisensou/467998   \n",
      "31  https://game8.jp/geneisensou/301637   \n",
      "32  https://game8.jp/geneisensou/301638   \n",
      "33  https://game8.jp/geneisensou/301639   \n",
      "34  https://game8.jp/geneisensou/301640   \n",
      "35  https://game8.jp/geneisensou/301641   \n",
      "36  https://game8.jp/geneisensou/301642   \n",
      "37  https://game8.jp/geneisensou/301643   \n",
      "38  https://game8.jp/geneisensou/301644   \n",
      "39  https://game8.jp/geneisensou/301645   \n",
      "40  https://game8.jp/geneisensou/301646   \n",
      "41  https://game8.jp/geneisensou/301647   \n",
      "42  https://game8.jp/geneisensou/301648   \n",
      "43  https://game8.jp/geneisensou/301649   \n",
      "44  https://game8.jp/geneisensou/301650   \n",
      "45  https://game8.jp/geneisensou/301651   \n",
      "46  https://game8.jp/geneisensou/301652   \n",
      "47  https://game8.jp/geneisensou/301653   \n",
      "48  https://game8.jp/geneisensou/301654   \n",
      "49  https://game8.jp/geneisensou/301655   \n",
      "50  https://game8.jp/geneisensou/301656   \n",
      "\n",
      "                                           vc_img_src  검1  검2  검3  지팡이1  ...  \\\n",
      "0   https://img.game8.jp/8433390/bf48265b4e7034991...   0   0   0     0  ...   \n",
      "1   https://img.game8.jp/8433366/56c2318db0ad601cf...   0   0   0     0  ...   \n",
      "2   https://img.game8.jp/8378117/0768b1b04c1404732...   1   0   0     0  ...   \n",
      "3   https://img.game8.jp/8378156/07abc8beb1a9891f0...   0   0   1     0  ...   \n",
      "4   https://img.game8.jp/8229107/bf83dde4914987f13...   0   0   0     0  ...   \n",
      "5   https://img.game8.jp/8172868/ca520efa4bb343774...   0   0   0     0  ...   \n",
      "6   https://img.game8.jp/8029218/4d6fae4744ecaff6f...   0   1   0     1  ...   \n",
      "7   https://img.game8.jp/7976840/1d1ca6c5405b29bf0...   1   0   0     0  ...   \n",
      "8   https://img.game8.jp/7961946/aea24896068536511...   0   1   1     0  ...   \n",
      "9   https://img.game8.jp/7952779/150320a91d95b590d...   0   1   0     1  ...   \n",
      "10  https://img.game8.jp/7911111/b09ece4eff89a86de...   0   0   0     1  ...   \n",
      "11  https://img.game8.jp/7907452/96dd9e8c70b3fa180...   1   0   0     0  ...   \n",
      "12  https://img.game8.jp/7781110/6e1733d38f1a4ae17...   0   1   0     0  ...   \n",
      "13  https://img.game8.jp/7728475/23a15880f465465c4...   0   0   0     1  ...   \n",
      "14  https://img.game8.jp/7709934/d55fa5ae3ea06de89...   1   0   1     0  ...   \n",
      "15  https://img.game8.jp/7634511/c61e0065de1044730...   0   0   1     0  ...   \n",
      "16  https://img.game8.jp/7668521/5ae8d8d7c0759ddc0...   1   0   0     0  ...   \n",
      "17  https://img.game8.jp/7572341/9dad176b58421b6e6...   0   0   0     0  ...   \n",
      "18  https://img.game8.jp/7552626/3ce8200d40a17db51...   0   0   0     0  ...   \n",
      "19  https://img.game8.jp/7526832/26fad1d31744ed5f4...   0   0   0     0  ...   \n",
      "20  https://img.game8.jp/7473164/203cee7b885e6b916...   0   1   0     1  ...   \n",
      "21  https://img.game8.jp/7440617/d4e322cd199b2f6b0...   1   0   0     0  ...   \n",
      "22  https://img.game8.jp/7419308/d0c176821fd59ae54...   0   0   0     0  ...   \n",
      "23  https://img.game8.jp/7336966/9bc4458deb18ecaab...   0   0   0     0  ...   \n",
      "24  https://img.game8.jp/7319916/e8ecdf97b4e3f088e...   0   0   0     1  ...   \n",
      "25  https://img.game8.jp/7287747/d04ef4c09f66c5337...   0   0   1     0  ...   \n",
      "26  https://img.game8.jp/7244502/5d55eea460b48dc69...   0   0   0     0  ...   \n",
      "27  https://img.game8.jp/7221142/c1fd490affc6ce5db...   0   0   0     0  ...   \n",
      "28  https://img.game8.jp/7196938/2cfb6a4f56be3f426...   0   1   0     0  ...   \n",
      "29  https://img.game8.jp/7146507/e95f527d3968b4960...   0   0   0     0  ...   \n",
      "30  https://img.game8.jp/8229220/a5189b60ebf419761...   0   0   0     1  ...   \n",
      "31  https://img.game8.jp/3833972/01f4cb7a2fc3bd4f5...   0   1   0     0  ...   \n",
      "32  https://img.game8.jp/3833929/2955bc2477db82f9f...   0   0   0     0  ...   \n",
      "33  https://img.game8.jp/3833974/bea194a524f400775...   0   0   1     1  ...   \n",
      "34  https://img.game8.jp/3833975/929c77935d18a068f...   0   0   1     1  ...   \n",
      "35  https://img.game8.jp/3833939/b7179e324f7f2bf4a...   0   0   0     0  ...   \n",
      "36  https://img.game8.jp/3833949/fac8dc72cc4cae577...   0   1   0     0  ...   \n",
      "37  https://img.game8.jp/3833923/6377dd092cb01d7c8...   1   0   0     0  ...   \n",
      "38  https://img.game8.jp/3833927/7e22dc9ddab44e75d...   1   0   0     0  ...   \n",
      "39  https://img.game8.jp/3833941/d92446a3f24550f21...   0   1   0     0  ...   \n",
      "40  https://img.game8.jp/3833934/4615464d4ac1efd4f...   0   0   1     1  ...   \n",
      "41  https://img.game8.jp/3833944/3c17152316fe893eb...   0   0   1     1  ...   \n",
      "42  https://img.game8.jp/3833925/abdc92a9ad2c0a47f...   0   0   0     0  ...   \n",
      "43  https://img.game8.jp/3833950/77c31f6ff7c0b5530...   0   0   0     0  ...   \n",
      "44  https://img.game8.jp/3833946/cb0be1c484014f114...   1   0   0     0  ...   \n",
      "45  https://img.game8.jp/3833948/97bfb8e6e0da637de...   0   1   0     0  ...   \n",
      "46  https://img.game8.jp/3833959/90881b1c1f014e3ce...   0   0   1     1  ...   \n",
      "47  https://img.game8.jp/3833926/fe050bf848ed6dca5...   0   0   0     0  ...   \n",
      "48  https://img.game8.jp/3833943/4decb509f0a456409...   1   0   0     0  ...   \n",
      "49  https://img.game8.jp/3833945/1cfd783a08ad214bb...   1   0   0     0  ...   \n",
      "50  https://img.game8.jp/3833947/8ace4e95b50e2045d...   0   1   0     0  ...   \n",
      "\n",
      "    활  총  주먹  단검  닌자  도검  메이스  글로브  책  부메랑  \n",
      "0   0  0   0   0   1   0    0    0  0    0  \n",
      "1   0  1   0   1   0   0    0    0  1    0  \n",
      "2   1  0   0   0   0   0    0    0  0    0  \n",
      "3   0  1   0   0   0   0    1    0  0    0  \n",
      "4   0  0   0   1   0   1    0    0  1    0  \n",
      "5   0  0   1   0   0   0    0    1  0    0  \n",
      "6   0  0   0   1   0   0    0    0  0    0  \n",
      "7   0  0   0   0   1   0    0    0  0    0  \n",
      "8   0  0   0   0   0   0    0    0  0    0  \n",
      "9   0  0   0   0   0   0    0    0  0    0  \n",
      "10  0  0   0   1   0   1    1    0  0    0  \n",
      "11  0  0   0   0   0   1    0    1  1    0  \n",
      "12  0  0   0   0   1   0    0    1  0    0  \n",
      "13  0  0   0   0   1   0    0    0  0    0  \n",
      "14  0  1   0   0   0   0    0    0  0    0  \n",
      "15  0  0   1   0   0   0    1    0  0    0  \n",
      "16  1  0   0   0   1   0    0    1  0    0  \n",
      "17  0  0   1   0   0   0    0    0  0    0  \n",
      "18  0  0   0   0   0   1    0    0  1    0  \n",
      "19  0  0   0   1   0   0    1    0  0    0  \n",
      "20  0  0   0   0   1   0    0    0  0    0  \n",
      "21  0  0   0   0   0   1    0    0  0    0  \n",
      "22  0  1   0   0   0   0    1    1  0    0  \n",
      "23  0  0   0   0   0   0    0    1  1    0  \n",
      "24  0  0   0   0   0   0    0    0  1    0  \n",
      "25  0  0   1   0   0   0    1    0  0    0  \n",
      "26  0  1   1   0   0   0    1    0  0    0  \n",
      "27  0  0   0   0   0   0    0    1  1    0  \n",
      "28  0  0   0   0   0   0    1    0  0    0  \n",
      "29  1  0   1   0   0   0    0    1  0    0  \n",
      "30  0  1   1   0   0   0    0    0  0    0  \n",
      "31  1  1   0   0   0   0    0    0  0    0  \n",
      "32  0  0   1   1   1   0    0    0  0    0  \n",
      "33  0  0   0   0   0   0    1    1  1    0  \n",
      "34  0  0   0   0   0   0    1    1  1    0  \n",
      "35  0  0   1   1   1   0    0    0  0    0  \n",
      "36  1  1   0   0   0   0    0    0  0    0  \n",
      "37  0  0   0   0   0   0    0    0  0    0  \n",
      "38  0  0   0   0   0   0    0    0  0    0  \n",
      "39  1  1   0   0   0   0    0    0  0    0  \n",
      "40  0  0   0   0   0   0    1    1  1    0  \n",
      "41  0  0   0   0   0   0    1    1  1    0  \n",
      "42  0  0   1   1   1   0    0    0  0    0  \n",
      "43  0  0   1   1   1   0    0    0  0    0  \n",
      "44  0  0   0   0   0   0    0    0  0    0  \n",
      "45  1  1   0   0   0   0    0    0  0    0  \n",
      "46  0  0   0   0   0   0    1    1  1    0  \n",
      "47  0  0   1   1   1   0    0    0  0    0  \n",
      "48  0  0   0   0   0   0    0    0  0    0  \n",
      "49  0  0   0   0   0   0    0    0  0    0  \n",
      "50  1  1   0   0   0   0    0    0  0    0  \n",
      "\n",
      "[51 rows x 24 columns]\n"
     ]
    }
   ],
   "source": [
    "import pandas as pd\n",
    "df = pd.read_excel(\"./data/test_tb.xlsx\")\n",
    "print(df)"
   ]
  },
  {
   "cell_type": "code",
   "execution_count": 20,
   "metadata": {},
   "outputs": [
    {
     "name": "stdout",
     "output_type": "stream",
     "text": [
      "타케의 받음은 훨씬 멀다.\n"
     ]
    }
   ],
   "source": [
    "for i, d in df.iterrows():\n",
    "    print(d['vc_trsl_name'])\n",
    "    break"
   ]
  },
  {
   "cell_type": "code",
   "execution_count": 33,
   "metadata": {},
   "outputs": [
    {
     "ename": "ProgrammingError",
     "evalue": "1064 (42000): You have an error in your SQL syntax; check the manual that corresponds to your MariaDB server version for the right syntax to use near 'order = 1 where trsl_name = '세피로스'' at line 1",
     "output_type": "error",
     "traceback": [
      "\u001b[1;31m---------------------------------------------------------------------------\u001b[0m",
      "\u001b[1;31mMySQLInterfaceError\u001b[0m                       Traceback (most recent call last)",
      "File \u001b[1;32mc:\\Users\\jchoi\\anaconda3\\envs\\py311\\Lib\\site-packages\\mysql\\connector\\connection_cext.py:611\u001b[0m, in \u001b[0;36mCMySQLConnection.cmd_query\u001b[1;34m(self, query, raw, buffered, raw_as_string)\u001b[0m\n\u001b[0;32m    610\u001b[0m         query \u001b[39m=\u001b[39m query\u001b[39m.\u001b[39mencode(\u001b[39m\"\u001b[39m\u001b[39mutf-8\u001b[39m\u001b[39m\"\u001b[39m)\n\u001b[1;32m--> 611\u001b[0m     \u001b[39mself\u001b[39;49m\u001b[39m.\u001b[39;49m_cmysql\u001b[39m.\u001b[39;49mquery(\n\u001b[0;32m    612\u001b[0m         query,\n\u001b[0;32m    613\u001b[0m         raw\u001b[39m=\u001b[39;49mraw,\n\u001b[0;32m    614\u001b[0m         buffered\u001b[39m=\u001b[39;49mbuffered,\n\u001b[0;32m    615\u001b[0m         raw_as_string\u001b[39m=\u001b[39;49mraw_as_string,\n\u001b[0;32m    616\u001b[0m         query_attrs\u001b[39m=\u001b[39;49m\u001b[39mself\u001b[39;49m\u001b[39m.\u001b[39;49m_query_attrs,\n\u001b[0;32m    617\u001b[0m     )\n\u001b[0;32m    618\u001b[0m \u001b[39mexcept\u001b[39;00m MySQLInterfaceError \u001b[39mas\u001b[39;00m err:\n",
      "\u001b[1;31mMySQLInterfaceError\u001b[0m: You have an error in your SQL syntax; check the manual that corresponds to your MariaDB server version for the right syntax to use near 'order = 1 where trsl_name = '세피로스'' at line 1",
      "\nThe above exception was the direct cause of the following exception:\n",
      "\u001b[1;31mProgrammingError\u001b[0m                          Traceback (most recent call last)",
      "Cell \u001b[1;32mIn[33], line 3\u001b[0m\n\u001b[0;32m      1\u001b[0m sql \u001b[39m=\u001b[39m \u001b[39m\"\"\"\u001b[39m\u001b[39mUPDATE char_list SET order = 1 where trsl_name = \u001b[39m\u001b[39m'\u001b[39m\u001b[39m세피로스\u001b[39m\u001b[39m'\u001b[39m\n\u001b[0;32m      2\u001b[0m \u001b[39m\"\"\"\u001b[39m\n\u001b[1;32m----> 3\u001b[0m fetch_data_from_db(sql)\n",
      "Cell \u001b[1;32mIn[21], line 12\u001b[0m, in \u001b[0;36mfetch_data_from_db\u001b[1;34m(sql)\u001b[0m\n\u001b[0;32m     10\u001b[0m conn \u001b[39m=\u001b[39m connect_db()\n\u001b[0;32m     11\u001b[0m cursor \u001b[39m=\u001b[39m conn\u001b[39m.\u001b[39mcursor()\n\u001b[1;32m---> 12\u001b[0m cursor\u001b[39m.\u001b[39;49mexecute(sql)\n\u001b[0;32m     13\u001b[0m res \u001b[39m=\u001b[39m cursor\u001b[39m.\u001b[39mfetchall()\n\u001b[0;32m     14\u001b[0m cursor\u001b[39m.\u001b[39mclose()\n",
      "File \u001b[1;32mc:\\Users\\jchoi\\anaconda3\\envs\\py311\\Lib\\site-packages\\mysql\\connector\\cursor_cext.py:330\u001b[0m, in \u001b[0;36mCMySQLCursor.execute\u001b[1;34m(self, operation, params, multi)\u001b[0m\n\u001b[0;32m    325\u001b[0m             \u001b[39mraise\u001b[39;00m ProgrammingError(\n\u001b[0;32m    326\u001b[0m                 \u001b[39m\"\u001b[39m\u001b[39mNot all parameters were used in the SQL statement\u001b[39m\u001b[39m\"\u001b[39m\n\u001b[0;32m    327\u001b[0m             )\n\u001b[0;32m    329\u001b[0m \u001b[39mtry\u001b[39;00m:\n\u001b[1;32m--> 330\u001b[0m     result \u001b[39m=\u001b[39m \u001b[39mself\u001b[39;49m\u001b[39m.\u001b[39;49m_cnx\u001b[39m.\u001b[39;49mcmd_query(\n\u001b[0;32m    331\u001b[0m         stmt,\n\u001b[0;32m    332\u001b[0m         raw\u001b[39m=\u001b[39;49m\u001b[39mself\u001b[39;49m\u001b[39m.\u001b[39;49m_raw,\n\u001b[0;32m    333\u001b[0m         buffered\u001b[39m=\u001b[39;49m\u001b[39mself\u001b[39;49m\u001b[39m.\u001b[39;49m_buffered,\n\u001b[0;32m    334\u001b[0m         raw_as_string\u001b[39m=\u001b[39;49m\u001b[39mself\u001b[39;49m\u001b[39m.\u001b[39;49m_raw_as_string,\n\u001b[0;32m    335\u001b[0m     )\n\u001b[0;32m    336\u001b[0m \u001b[39mexcept\u001b[39;00m MySQLInterfaceError \u001b[39mas\u001b[39;00m err:\n\u001b[0;32m    337\u001b[0m     \u001b[39mraise\u001b[39;00m get_mysql_exception(\n\u001b[0;32m    338\u001b[0m         msg\u001b[39m=\u001b[39merr\u001b[39m.\u001b[39mmsg, errno\u001b[39m=\u001b[39merr\u001b[39m.\u001b[39merrno, sqlstate\u001b[39m=\u001b[39merr\u001b[39m.\u001b[39msqlstate\n\u001b[0;32m    339\u001b[0m     ) \u001b[39mfrom\u001b[39;00m \u001b[39merr\u001b[39;00m\n",
      "File \u001b[1;32mc:\\Users\\jchoi\\anaconda3\\envs\\py311\\Lib\\site-packages\\mysql\\connector\\connection_cext.py:619\u001b[0m, in \u001b[0;36mCMySQLConnection.cmd_query\u001b[1;34m(self, query, raw, buffered, raw_as_string)\u001b[0m\n\u001b[0;32m    611\u001b[0m     \u001b[39mself\u001b[39m\u001b[39m.\u001b[39m_cmysql\u001b[39m.\u001b[39mquery(\n\u001b[0;32m    612\u001b[0m         query,\n\u001b[0;32m    613\u001b[0m         raw\u001b[39m=\u001b[39mraw,\n\u001b[1;32m   (...)\u001b[0m\n\u001b[0;32m    616\u001b[0m         query_attrs\u001b[39m=\u001b[39m\u001b[39mself\u001b[39m\u001b[39m.\u001b[39m_query_attrs,\n\u001b[0;32m    617\u001b[0m     )\n\u001b[0;32m    618\u001b[0m \u001b[39mexcept\u001b[39;00m MySQLInterfaceError \u001b[39mas\u001b[39;00m err:\n\u001b[1;32m--> 619\u001b[0m     \u001b[39mraise\u001b[39;00m get_mysql_exception(\n\u001b[0;32m    620\u001b[0m         err\u001b[39m.\u001b[39merrno, msg\u001b[39m=\u001b[39merr\u001b[39m.\u001b[39mmsg, sqlstate\u001b[39m=\u001b[39merr\u001b[39m.\u001b[39msqlstate\n\u001b[0;32m    621\u001b[0m     ) \u001b[39mfrom\u001b[39;00m \u001b[39merr\u001b[39;00m\n\u001b[0;32m    622\u001b[0m \u001b[39mexcept\u001b[39;00m \u001b[39mAttributeError\u001b[39;00m \u001b[39mas\u001b[39;00m err:\n\u001b[0;32m    623\u001b[0m     addr \u001b[39m=\u001b[39m (\n\u001b[0;32m    624\u001b[0m         \u001b[39mself\u001b[39m\u001b[39m.\u001b[39m_unix_socket \u001b[39mif\u001b[39;00m \u001b[39mself\u001b[39m\u001b[39m.\u001b[39m_unix_socket \u001b[39melse\u001b[39;00m \u001b[39mf\u001b[39m\u001b[39m\"\u001b[39m\u001b[39m{\u001b[39;00m\u001b[39mself\u001b[39m\u001b[39m.\u001b[39m_host\u001b[39m}\u001b[39;00m\u001b[39m:\u001b[39m\u001b[39m{\u001b[39;00m\u001b[39mself\u001b[39m\u001b[39m.\u001b[39m_port\u001b[39m}\u001b[39;00m\u001b[39m\"\u001b[39m\n\u001b[0;32m    625\u001b[0m     )\n",
      "\u001b[1;31mProgrammingError\u001b[0m: 1064 (42000): You have an error in your SQL syntax; check the manual that corresponds to your MariaDB server version for the right syntax to use near 'order = 1 where trsl_name = '세피로스'' at line 1"
     ]
    }
   ],
   "source": [
    "sql = \"\"\"UPDATE char_list SET order = 1 where trsl_name = '세피로스'\n",
    "\"\"\"\n",
    "fetch_data_from_db(sql)"
   ]
  }
 ],
 "metadata": {
  "kernelspec": {
   "display_name": "py311",
   "language": "python",
   "name": "python3"
  },
  "language_info": {
   "codemirror_mode": {
    "name": "ipython",
    "version": 3
   },
   "file_extension": ".py",
   "mimetype": "text/x-python",
   "name": "python",
   "nbconvert_exporter": "python",
   "pygments_lexer": "ipython3",
   "version": "3.11.0"
  },
  "orig_nbformat": 4
 },
 "nbformat": 4,
 "nbformat_minor": 2
}
